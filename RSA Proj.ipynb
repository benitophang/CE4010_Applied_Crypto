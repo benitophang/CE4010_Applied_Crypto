{
 "cells": [
  {
   "cell_type": "raw",
   "metadata": {},
   "source": [
    "Topic #8 : Demonstration of attacks on “weak” RSA\n",
    "Research : Background study on RSA Cryptanalysis/Attacks.\n",
    "o Implement a simple but practical RSA-based protocol that is known to have a “weak” implementation of RSA.\n",
    "o Demonstrate an attack on the protocol exploiting the “weak” RSA implementation to recover key or plaintext\n",
    "\n"
   ]
  },
  {
   "cell_type": "code",
   "execution_count": 1,
   "metadata": {},
   "outputs": [],
   "source": [
    "#RSA Implementation Generator. Given n bits, get parameters e,d,n for RSA.\n",
    "\n",
    "def rsa(bits):\n",
    "    # only prove correctness up to 1024 bits\n",
    "    proof = (bits <= 1024)\n",
    "    p = next_prime(ZZ.random_element(2**(bits//2+1)),\n",
    "            proof=proof)\n",
    "    q = next_prime(ZZ.random_element(2**(bits//2+1)),\n",
    "            proof=proof)\n",
    "    n = p*q\n",
    "    phi_n = (p-1)*(q-1)\n",
    "    while True:\n",
    "        e = ZZ.random_element(1,phi_n)\n",
    "        if gcd(e,phi_n) == 1: break\n",
    "    d = lift(Mod(e,phi_n)^(-1))\n",
    "    return e, d, n \n",
    "\n",
    "def rsa_with_small_e(bits): #Adapted RSA implementation with fixed small e to generate example case for parial key exposure attack.\n",
    "    # only prove correctness up to 1024 bits\n",
    "    proof = (bits <= 1024)\n",
    "    p = next_prime(ZZ.random_element(2**(bits//2+1)),\n",
    "            proof=proof)\n",
    "    q = next_prime(ZZ.random_element(2**(bits//2+1)),\n",
    "            proof=proof)\n",
    "    n = p*q\n",
    "    phi_n = (p-1)*(q-1)\n",
    "    while True:\n",
    "        e = 13\n",
    "        if gcd(e,phi_n) == 1: break\n",
    "    d = lift(Mod(e,phi_n)^(-1))\n",
    "    return e, d, n \n"
   ]
  },
  {
   "cell_type": "markdown",
   "metadata": {},
   "source": [
    "Wiener's attack"
   ]
  },
  {
   "cell_type": "code",
   "execution_count": 2,
   "metadata": {},
   "outputs": [],
   "source": [
    "def wiener(n,e):\n",
    "    num = e/n \n",
    "    m = 324 # Random message of 324 chosen\n",
    "    encrypted = power_mod(m,e,n) #Encrypt random message\n",
    "    for f in num.continued_fraction().convergents(): # Find continued fraction of e/n and convert to convergents\n",
    "        d = f.denominator() \n",
    "        test_m = power_mod(encrypted,d,n) #test if current d is correct\n",
    "        if test_m == m:\n",
    "            return d\n",
    "    \n",
    "    return 0 #wiener failed most likely due to not meeting condition of d < 1/3* N^1/4\n"
   ]
  },
  {
   "cell_type": "code",
   "execution_count": 3,
   "metadata": {},
   "outputs": [
    {
     "data": {
      "text/plain": [
       "5"
      ]
     },
     "execution_count": 3,
     "metadata": {},
     "output_type": "execute_result"
    }
   ],
   "source": [
    "#Example of <N,e> = <90581,17993> Example taken from wikipedia.\n",
    "wiener(90581,17993)"
   ]
  },
  {
   "cell_type": "markdown",
   "metadata": {},
   "source": [
    "Partial Key Exposure Attack - Coppersmith Theorem"
   ]
  },
  {
   "cell_type": "code",
   "execution_count": 4,
   "metadata": {},
   "outputs": [],
   "source": [
    "def partial_key_recovery(e,d0,bitlen,N): #Initial part focuses on solving the 3 equations and getting our reduced polynomial.\n",
    "    \n",
    "    realp=-1\n",
    "    realq=-1\n",
    "    keep=0\n",
    "    mod = 2^bitlen\n",
    "    #print(mod)\n",
    "    R=IntegerModRing(mod)\n",
    "    \n",
    "    #Solving ed0 = 1 + k(N-s+1)(mod 2^n/4) for right value of k and s\n",
    "    for k in range(1,e):\n",
    "        s = -((e * d0 - 1 - k - k*N) // k) % (2 ^ bitlen)\n",
    "        #print('s:',s)\n",
    "        for p in range(e):\n",
    "            #Plug into p^2-sp+N = 0 mod 2^n/4 and solve for p \n",
    "            test = p^2-s*p+N\n",
    "            shouldBeZero = test % mod\n",
    "            #print(shouldBeZero)\n",
    "            if shouldBeZero == 0:\n",
    "                #print('p0:',p)\n",
    "                p0 = p\n",
    "                inverse = inverse_mod(p0,mod)\n",
    "                q0 = inverse*N % mod\n",
    "                #print('q0',q0)\n",
    "                realp, realq = find_pq(mod,p0,q0,N) #p0 and q0 passed into another function to get actual values of p and q\n",
    "                if realp !=-1:\n",
    "                    break  \n",
    "        \n",
    "        if realp!=-1:\n",
    "            keep = k\n",
    "            break;\n",
    "        else:\n",
    "            continue\n",
    "                            \n",
    "    phi = (realp-1)*(realq-1)\n",
    "    \n",
    "    print('Given N = %d, e = %d : ' % (N,e))\n",
    "    \n",
    "    print('p:',realp)\n",
    "    print('q:',realq)\n",
    "    #print('phi:',phi)\n",
    "    \n",
    "    #print(keep)\n",
    "    d = inverse_mod(e,phi)\n",
    "    print(\"Decryption exponent is:\",d)\n",
    "    \n",
    "\n",
    "def find_pq(mod,p0,q0,N):\n",
    "    #with p0,q0, we can try to find actual p and q using f(x,y) = (rx+p0)(ry+q0)-N\n",
    "    for x in range(1,mod+1): #Naive implementation by testing all values of x and y in mod 2^n/4 to find p and q.\n",
    "        for y in range(1,mod+1):\n",
    "            testp = (mod*x+int(p0))\n",
    "            testq = (mod*y+int(q0))\n",
    "            Ntest = testp*testq\n",
    "            if Ntest == N:\n",
    "                return testp,testq\n",
    "            \n",
    "    return -1,-1\n",
    "    \n",
    "# def find_roots(mod,N,p0):\n",
    "#     R=IntegerModRing(mod)\n",
    "#     inverse = inverse_mod(int(p0),mod)\n",
    "#     #print('inverse:',inverse)\n",
    "#     q0 = int(IntegerMod(R,inverse*N))\n",
    "#     print('q0:',q0)\n",
    "#     for x in range(1,mod+1):\n",
    "#         for y in range(1,mod+1):\n",
    "#             testp = (mod*x+int(p0))\n",
    "#             testq = (mod*y+int(q0))\n",
    "#             Ntest = testp*testq\n",
    "#             if Ntest == N:\n",
    "#                 return testp,testq\n",
    "#     return -1,-1"
   ]
  },
  {
   "cell_type": "code",
   "execution_count": 11,
   "metadata": {},
   "outputs": [
    {
     "data": {
      "text/plain": [
       "(13, 8077, 52961)"
      ]
     },
     "execution_count": 11,
     "metadata": {},
     "output_type": "execute_result"
    }
   ],
   "source": [
    "rsa_with_small_e(16) #Generate example test case with small e. n=16bits"
   ]
  },
  {
   "cell_type": "code",
   "execution_count": 12,
   "metadata": {},
   "outputs": [
    {
     "name": "stdout",
     "output_type": "stream",
     "text": [
      "Given N = 52961, e = 13 : \n",
      "p: 211\n",
      "q: 251\n",
      "Decryption exponent is: 8077\n"
     ]
    }
   ],
   "source": [
    "def test(): #Testing function for partial key exposure attack. Edit e,d,n based on generated example then run function.\n",
    "    e = 13\n",
    "    d = 8077\n",
    "    #p = 263\n",
    "    #q = 359\n",
    "    N = 52961\n",
    "    #phi = (p - 1) * (q - 1)\n",
    "    #print('phi:',phi)\n",
    "    n4 = ceil(len(bin(N).replace('0b',''))/4)\n",
    "    #print('n4:',n4)\n",
    "    #d = inverse_mod(e,phi)\n",
    "    #print('d:',d)\n",
    "    #print(bin(d))\n",
    "    #print(bin(d)[-n4:])\n",
    "    d0 = int(bin(d)[-n4:],2)\n",
    "    #print(d0)\n",
    "    \n",
    "    #print(e,d0,n4,N)\n",
    "    partial_key_recovery(e,d0,n4,N)\n",
    "    \n",
    "    \n",
    "def test2(): #Sometimes fails to find. +1 to n4 can help to solve in some cases.\n",
    "    e = 13\n",
    "    p = 449\n",
    "    q = 1481\n",
    "    N = 664969\n",
    "    phi = (p - 1) * (q - 1)\n",
    "    print('phi:',phi)\n",
    "    n4 = ceil(len(bin(N).replace('0b',''))/4)\n",
    "    print('n4:',n4)\n",
    "    d = inverse_mod(e,phi)\n",
    "    print('d:',d)\n",
    "    print(bin(d))\n",
    "    print(bin(d)[-n4:])\n",
    "    d0 = int(bin(d)[-n4:],2)\n",
    "    d02 = int(bin(d)[-(n4+1):],2)\n",
    "    print(d0)\n",
    "    print('d2: ',d02)\n",
    "    \n",
    "    print(e,d0,n4,N)\n",
    "    partial_key_recovery(e,d0,n4,N)\n",
    "    partial_key_recovery(e,d02,n4+1,N)\n",
    "    \n",
    "def test3(): #This is just additional testing.\n",
    "    e = 13\n",
    "    p = 509\n",
    "    q = 509\n",
    "    N = 74593\n",
    "    phi = (p - 1) * (q - 1)\n",
    "    print('phi:',phi)\n",
    "    n4 = ceil(len(bin(N).replace('0b',''))/4)\n",
    "    print('n4:',n4)\n",
    "    d = inverse_mod(e,phi)\n",
    "    print('d:',d)\n",
    "    print(bin(d))\n",
    "    print(bin(d)[-n4:])\n",
    "    d0 = int(bin(d)[-n4:],2)\n",
    "    d02 = int(bin(d)[-(n4+6):],2)\n",
    "    print(d0)\n",
    "    print('d2: ',d02)\n",
    "    \n",
    "    print(e,d0,n4,N)\n",
    "    partial_key_recovery(e,d0,n4,N)\n",
    "    partial_key_recovery(e,d02,n4+4,N)\n",
    "    partial_key_recovery(e,259525,18,N)\n",
    "    \n",
    "test()"
   ]
  }
 ],
 "metadata": {
  "kernelspec": {
   "display_name": "SageMath 9.2",
   "language": "sage",
   "name": "sagemath"
  },
  "language_info": {
   "codemirror_mode": {
    "name": "ipython",
    "version": 3
   },
   "file_extension": ".py",
   "mimetype": "text/x-python",
   "name": "python",
   "nbconvert_exporter": "python",
   "pygments_lexer": "ipython3",
   "version": "3.7.7"
  }
 },
 "nbformat": 4,
 "nbformat_minor": 4
}
